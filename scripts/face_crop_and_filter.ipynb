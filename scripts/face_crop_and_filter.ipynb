{
 "cells": [
  {
   "cell_type": "code",
   "execution_count": 1,
   "id": "a9e1ed3f",
   "metadata": {
    "_cell_guid": "b1076dfc-b9ad-4769-8c92-a6c4dae69d19",
    "_uuid": "8f2839f25d086af736a60e9eeb907d3b93b6e0e5",
    "execution": {
     "iopub.execute_input": "2025-06-03T14:06:55.297039Z",
     "iopub.status.busy": "2025-06-03T14:06:55.296777Z",
     "iopub.status.idle": "2025-06-03T14:08:12.254538Z",
     "shell.execute_reply": "2025-06-03T14:08:12.253522Z",
     "shell.execute_reply.started": "2025-06-03T14:06:55.297014Z"
    },
    "papermill": {
     "duration": 122.132491,
     "end_time": "2025-05-28T13:49:28.750903",
     "exception": false,
     "start_time": "2025-05-28T13:47:26.618412",
     "status": "completed"
    },
    "tags": [],
    "trusted": true
   },
   "outputs": [
    {
     "name": "stdout",
     "output_type": "stream",
     "text": [
      "\u001b[2K   \u001b[90m━━━━━━━━━━━━━━━━━━━━━━━━━━━━━━━━━━━━━━━━\u001b[0m \u001b[32m49.4/49.4 kB\u001b[0m \u001b[31m2.5 MB/s\u001b[0m eta \u001b[36m0:00:00\u001b[0m\n",
      "\u001b[2K   \u001b[90m━━━━━━━━━━━━━━━━━━━━━━━━━━━━━━━━━━━━━━━━\u001b[0m \u001b[32m363.4/363.4 MB\u001b[0m \u001b[31m4.6 MB/s\u001b[0m eta \u001b[36m0:00:00\u001b[0m0:00:01\u001b[0m00:01\u001b[0m\n",
      "\u001b[2K   \u001b[90m━━━━━━━━━━━━━━━━━━━━━━━━━━━━━━━━━━━━━━━━\u001b[0m \u001b[32m664.8/664.8 MB\u001b[0m \u001b[31m2.5 MB/s\u001b[0m eta \u001b[36m0:00:00\u001b[0m0:00:01\u001b[0m00:01\u001b[0m\n",
      "\u001b[2K   \u001b[90m━━━━━━━━━━━━━━━━━━━━━━━━━━━━━━━━━━━━━━━━\u001b[0m \u001b[32m211.5/211.5 MB\u001b[0m \u001b[31m6.1 MB/s\u001b[0m eta \u001b[36m0:00:00\u001b[0m0:00:01\u001b[0m00:01\u001b[0m\n",
      "\u001b[2K   \u001b[90m━━━━━━━━━━━━━━━━━━━━━━━━━━━━━━━━━━━━━━━━\u001b[0m \u001b[32m56.3/56.3 MB\u001b[0m \u001b[31m30.7 MB/s\u001b[0m eta \u001b[36m0:00:00\u001b[0m:00:01\u001b[0m00:01\u001b[0m\n",
      "\u001b[2K   \u001b[90m━━━━━━━━━━━━━━━━━━━━━━━━━━━━━━━━━━━━━━━━\u001b[0m \u001b[32m127.9/127.9 MB\u001b[0m \u001b[31m13.4 MB/s\u001b[0m eta \u001b[36m0:00:00\u001b[0m:00:01\u001b[0m00:01\u001b[0m\n",
      "\u001b[2K   \u001b[90m━━━━━━━━━━━━━━━━━━━━━━━━━━━━━━━━━━━━━━━━\u001b[0m \u001b[32m207.5/207.5 MB\u001b[0m \u001b[31m2.1 MB/s\u001b[0m eta \u001b[36m0:00:00\u001b[0m0:00:01\u001b[0m00:01\u001b[0m\n",
      "\u001b[2K   \u001b[90m━━━━━━━━━━━━━━━━━━━━━━━━━━━━━━━━━━━━━━━━\u001b[0m \u001b[32m21.1/21.1 MB\u001b[0m \u001b[31m81.7 MB/s\u001b[0m eta \u001b[36m0:00:00\u001b[0m:00:01\u001b[0m00:01\u001b[0m\n",
      "\u001b[2K   \u001b[90m━━━━━━━━━━━━━━━━━━━━━━━━━━━━━━━━━━━━━━━━\u001b[0m \u001b[32m235.8/235.8 kB\u001b[0m \u001b[31m13.2 MB/s\u001b[0m eta \u001b[36m0:00:00\u001b[0m\n",
      "\u001b[?25h"
     ]
    }
   ],
   "source": [
    "!pip -q install face-crop-plus"
   ]
  },
  {
   "cell_type": "code",
   "execution_count": null,
   "id": "7ad95f55",
   "metadata": {
    "execution": {
     "iopub.execute_input": "2025-06-03T14:08:12.257310Z",
     "iopub.status.busy": "2025-06-03T14:08:12.256980Z",
     "iopub.status.idle": "2025-06-03T14:08:19.350540Z",
     "shell.execute_reply": "2025-06-03T14:08:19.349747Z",
     "shell.execute_reply.started": "2025-06-03T14:08:12.257285Z"
    },
    "papermill": {
     "duration": 8.417833,
     "end_time": "2025-05-28T13:49:37.191541",
     "exception": false,
     "start_time": "2025-05-28T13:49:28.773708",
     "status": "completed"
    },
    "tags": [],
    "trusted": true
   },
   "outputs": [],
   "source": [
    "from face_crop_plus import Cropper\n",
    "from torch.cuda import is_available\n",
    "from os.path import join, dirname, abspath\n",
    "import cv2\n",
    "import os\n",
    "import shutil\n",
    "import matplotlib.pyplot as plt\n",
    "\n",
    "INPUT_DIR = \"/kaggle/input/downloaded_images_2024/downloaded_images_2024\"\n",
    "TEMP_DIR_256_256 = \"/kaggle/working/cropped_image_temp_256_256\"\n",
    "TEMP_DIR_NO_BLURRY = \"/kaggle/working/cropped_image_temp_NO_BLURRY\"\n",
    "OUTPUT_DIR = \"/kaggle/working/cropped_image_64_64_NO_BLURRY_Final\" "
   ]
  },
  {
   "cell_type": "code",
   "execution_count": 23,
   "id": "2256a337-694f-424e-a16d-b903201e8066",
   "metadata": {
    "execution": {
     "iopub.execute_input": "2025-06-03T16:32:08.988479Z",
     "iopub.status.busy": "2025-06-03T16:32:08.988134Z",
     "iopub.status.idle": "2025-06-03T16:32:09.943494Z",
     "shell.execute_reply": "2025-06-03T16:32:09.939568Z",
     "shell.execute_reply.started": "2025-06-03T16:32:08.988455Z"
    },
    "trusted": true
   },
   "outputs": [],
   "source": [
    "shutil.rmtree(OUTPUT_DIR)"
   ]
  },
  {
   "cell_type": "code",
   "execution_count": 6,
   "id": "70205214-5661-4be6-ad2b-642c85beed52",
   "metadata": {
    "execution": {
     "iopub.execute_input": "2025-06-03T14:09:35.704677Z",
     "iopub.status.busy": "2025-06-03T14:09:35.704400Z",
     "iopub.status.idle": "2025-06-03T15:33:42.725664Z",
     "shell.execute_reply": "2025-06-03T15:33:42.724815Z",
     "shell.execute_reply.started": "2025-06-03T14:09:35.704657Z"
    },
    "trusted": true
   },
   "outputs": [
    {
     "name": "stderr",
     "output_type": "stream",
     "text": [
      "Processing: 100%|██████████| 6754/6754 [1:24:06<00:00,  1.34it/s]\n"
     ]
    }
   ],
   "source": [
    "# 第一次先進行臉的裁切照片\n",
    "\n",
    "# Set all to False if running on CPU (unless you can wait for a bit)\n",
    "TEST_QUALITY_ENHANCEMENT = False\n",
    "TEST_ATTR_GROUPING = False\n",
    "TEST_MASK_GROUPING = False\n",
    "\n",
    "if __name__ == \"__main__\":\n",
    "    # Initialize as None\n",
    "    enh_threshold = None\n",
    "    attr_groups = None\n",
    "    mask_groups = None\n",
    "\n",
    "    if TEST_QUALITY_ENHANCEMENT:\n",
    "        enh_threshold = 0.001\n",
    "\n",
    "    if TEST_ATTR_GROUPING:\n",
    "        attr_groups = {\"complete_face\": [2, 3, 4, 5, 10, 11, 12, 13]}\n",
    "    \n",
    "    if TEST_MASK_GROUPING:\n",
    "        mask_groups = {\"complete_face\": [2, 3, 4, 5, 10, 11, 12, 13]}\n",
    "\n",
    "    # Initialize cropper\n",
    "    cropper = Cropper(\n",
    "        output_size=(256,256),\n",
    "        output_format=\"png\",\n",
    "        padding=\"replicate\",\n",
    "        face_factor=0.7,\n",
    "        strategy=\"all\",\n",
    "        det_threshold=0.9,\n",
    "        device = \"cuda:0\" if is_available() else \"cpu\",\n",
    "        enh_threshold=enh_threshold,\n",
    "        attr_groups=attr_groups,\n",
    "        mask_groups=mask_groups,\n",
    "    )\n",
    "\n",
    "    # Process images in the input dir and save face images to output dir\n",
    "    cropper.process_dir(input_dir=INPUT_DIR, output_dir=TEMP_DIR_256_256)"
   ]
  },
  {
   "cell_type": "code",
   "execution_count": 7,
   "id": "85041e76",
   "metadata": {
    "execution": {
     "iopub.execute_input": "2025-06-03T15:33:42.727573Z",
     "iopub.status.busy": "2025-06-03T15:33:42.727261Z",
     "iopub.status.idle": "2025-06-03T15:33:42.732049Z",
     "shell.execute_reply": "2025-06-03T15:33:42.731533Z",
     "shell.execute_reply.started": "2025-06-03T15:33:42.727554Z"
    },
    "papermill": {
     "duration": 0.026724,
     "end_time": "2025-05-28T13:49:37.288163",
     "exception": false,
     "start_time": "2025-05-28T13:49:37.261439",
     "status": "completed"
    },
    "tags": [],
    "trusted": true
   },
   "outputs": [],
   "source": [
    "def show_image(img):\n",
    "    img_rgb = cv2.cvtColor(img, cv2.COLOR_BGR2RGB)\n",
    "    plt.imshow(img_rgb)\n",
    "    plt.axis('off')\n",
    "    plt.show()\n",
    "\n",
    "# def is_dark(img, dark_threshold=0):\n",
    "#     gray = cv2.cvtColor(img, cv2.COLOR_BGR2GRAY)\n",
    "#     avg_brightness = cv2.mean(gray)[0]\n",
    "#     return avg_brightness < dark_threshold\n",
    "\n",
    "def is_blurry(img, blur_threshold=100):\n",
    "    gray = cv2.cvtColor(img, cv2.COLOR_BGR2GRAY)\n",
    "    variance = cv2.Laplacian(gray, cv2.CV_64F).var()\n",
    "    return variance < blur_threshold"
   ]
  },
  {
   "cell_type": "code",
   "execution_count": 17,
   "id": "a4d2c1b2",
   "metadata": {
    "execution": {
     "iopub.execute_input": "2025-06-03T15:38:48.125505Z",
     "iopub.status.busy": "2025-06-03T15:38:48.124945Z",
     "iopub.status.idle": "2025-06-03T15:38:48.131325Z",
     "shell.execute_reply": "2025-06-03T15:38:48.130600Z",
     "shell.execute_reply.started": "2025-06-03T15:38:48.125482Z"
    },
    "papermill": {
     "duration": 0.026719,
     "end_time": "2025-05-28T13:49:37.336246",
     "exception": false,
     "start_time": "2025-05-28T13:49:37.309527",
     "status": "completed"
    },
    "tags": [],
    "trusted": true
   },
   "outputs": [],
   "source": [
    "def filter_and_display_images(source_folder, target_folder, brightness_threshold=100, blur_threshold=100):\n",
    "    \n",
    "    os.makedirs(target_folder, exist_ok=True)\n",
    "    count = 0\n",
    "    total_checked = 0\n",
    "\n",
    "    image_files = [f for f in os.listdir(source_folder) if f.lower().endswith(('.jpg', '.jpeg', '.png', '.bmp'))]\n",
    "\n",
    "    for filename in image_files:\n",
    "        \n",
    "        image_path = os.path.join(source_folder, filename)\n",
    "        img = cv2.imread(image_path)\n",
    "        \n",
    "        if img is None:\n",
    "            print(f\"⚠️ 無法讀取：{filename}\")\n",
    "            continue\n",
    "\n",
    "        # dark_flag = is_dark(img, brightness_threshold)\n",
    "        blur_flag = is_blurry(img, blur_threshold)\n",
    "\n",
    "        # print(\"結果：\")\n",
    "        status = []\n",
    "        # if dark_flag:\n",
    "        #     status.append(\"太暗\")\n",
    "        #     print(\"太暗\")\n",
    "        if blur_flag:\n",
    "            status.append(\"太模糊\")\n",
    "            # print(\"太模糊\")\n",
    "        if not status:\n",
    "            status.append(\"好照片\")\n",
    "            # print(\"好照片\")\n",
    "            shutil.copy(image_path, os.path.join(target_folder, filename))\n",
    "            count += 1\n",
    "\n",
    "        total_checked += 1\n",
    "\n",
    "    print(f\"\\n✅ 前 {total_checked} 張圖片處理完畢，保留了 {count} 張合格圖片於 {target_folder}\")"
   ]
  },
  {
   "cell_type": "code",
   "execution_count": 18,
   "id": "aefb72d4",
   "metadata": {
    "execution": {
     "iopub.execute_input": "2025-06-03T15:38:50.653255Z",
     "iopub.status.busy": "2025-06-03T15:38:50.652516Z",
     "iopub.status.idle": "2025-06-03T15:41:36.037295Z",
     "shell.execute_reply": "2025-06-03T15:41:36.036413Z",
     "shell.execute_reply.started": "2025-06-03T15:38:50.653231Z"
    },
    "papermill": {
     "duration": 0.027861,
     "end_time": "2025-05-28T13:49:37.385788",
     "exception": false,
     "start_time": "2025-05-28T13:49:37.357927",
     "status": "completed"
    },
    "tags": [],
    "trusted": true
   },
   "outputs": [
    {
     "name": "stdout",
     "output_type": "stream",
     "text": [
      "\n",
      "✅ 前 60618 張圖片處理完畢，保留了 33899 張合格圖片於 /kaggle/working/cropped_image_temp_NO_BLURRY\n"
     ]
    }
   ],
   "source": [
    "filter_and_display_images(TEMP_DIR_256_256, TEMP_DIR_NO_BLURRY)"
   ]
  },
  {
   "cell_type": "code",
   "execution_count": 24,
   "id": "8c5f2592",
   "metadata": {
    "execution": {
     "iopub.execute_input": "2025-06-03T16:32:26.831662Z",
     "iopub.status.busy": "2025-06-03T16:32:26.831407Z",
     "iopub.status.idle": "2025-06-03T17:08:25.527917Z",
     "shell.execute_reply": "2025-06-03T17:08:25.527020Z",
     "shell.execute_reply.started": "2025-06-03T16:32:26.831647Z"
    },
    "papermill": {
     "duration": 4937.399738,
     "end_time": "2025-05-28T15:11:54.807255",
     "exception": false,
     "start_time": "2025-05-28T13:49:37.407517",
     "status": "completed"
    },
    "tags": [],
    "trusted": true
   },
   "outputs": [
    {
     "name": "stderr",
     "output_type": "stream",
     "text": [
      "Processing: 100%|██████████| 4238/4238 [35:57<00:00,  1.96it/s]\n"
     ]
    }
   ],
   "source": [
    "# 進行裁切照片\n",
    "\n",
    "# Set all to False if running on CPU (unless you can wait for a bit)\n",
    "TEST_QUALITY_ENHANCEMENT = False\n",
    "TEST_ATTR_GROUPING = False\n",
    "TEST_MASK_GROUPING = False\n",
    "\n",
    "if __name__ == \"__main__\":\n",
    "    # Initialize as None\n",
    "    enh_threshold = None\n",
    "    attr_groups = None\n",
    "    mask_groups = None\n",
    "\n",
    "    if TEST_QUALITY_ENHANCEMENT:\n",
    "        enh_threshold = 0.001\n",
    "\n",
    "    if TEST_ATTR_GROUPING:\n",
    "        attr_groups = {\"complete_face\": [2, 3, 4, 5, 10, 11, 12, 13]}\n",
    "    \n",
    "    if TEST_MASK_GROUPING:\n",
    "        mask_groups = {\"complete_face\": [2, 3, 4, 5, 10, 11, 12, 13]}\n",
    "\n",
    "    # Initialize cropper\n",
    "    cropper = Cropper(\n",
    "        output_size=(64,64),\n",
    "        output_format=\"png\",\n",
    "        padding=\"Constant\",\n",
    "        face_factor=0.7,\n",
    "        strategy=\"all\",\n",
    "        det_threshold=0.95,\n",
    "        device = \"cuda:0\" if is_available() else \"cpu\",\n",
    "        enh_threshold=enh_threshold,\n",
    "        attr_groups=attr_groups,\n",
    "        mask_groups=mask_groups,\n",
    "    )\n",
    "\n",
    "    # Process images in the input dir and save face images to output dir\n",
    "    cropper.process_dir(input_dir=TEMP_DIR_NO_BLURRY, output_dir=OUTPUT_DIR)"
   ]
  },
  {
   "cell_type": "code",
   "execution_count": null,
   "id": "c144da25",
   "metadata": {
    "execution": {
     "iopub.execute_input": "2025-06-03T17:09:21.313859Z",
     "iopub.status.busy": "2025-06-03T17:09:21.313493Z",
     "iopub.status.idle": "2025-06-03T17:09:30.089480Z",
     "shell.execute_reply": "2025-06-03T17:09:30.088470Z",
     "shell.execute_reply.started": "2025-06-03T17:09:21.313835Z"
    },
    "papermill": {
     "duration": 364.193903,
     "end_time": "2025-05-28T15:17:59.291581",
     "exception": false,
     "start_time": "2025-05-28T15:11:55.097678",
     "status": "completed"
    },
    "tags": [],
    "trusted": true
   },
   "outputs": [],
   "source": [
    "!zip -rq /kaggle/working/cropped_image_64_64_NO_BLURRY_Final.zip /kaggle/working/cropped_image_64_64_NO_BLURRY_Final"
   ]
  },
  {
   "cell_type": "code",
   "execution_count": null,
   "id": "2b0b8c34",
   "metadata": {
    "papermill": {
     "duration": 0.6653,
     "end_time": "2025-05-28T15:18:00.686454",
     "exception": false,
     "start_time": "2025-05-28T15:18:00.021154",
     "status": "completed"
    },
    "tags": []
   },
   "outputs": [],
   "source": []
  }
 ],
 "metadata": {
  "kaggle": {
   "accelerator": "gpu",
   "dataSources": [
    {
     "datasetId": 7410127,
     "sourceId": 11799835,
     "sourceType": "datasetVersion"
    }
   ],
   "dockerImageVersionId": 31041,
   "isGpuEnabled": true,
   "isInternetEnabled": true,
   "language": "python",
   "sourceType": "notebook"
  },
  "kernelspec": {
   "display_name": "Python 3",
   "language": "python",
   "name": "python3"
  },
  "language_info": {
   "codemirror_mode": {
    "name": "ipython",
    "version": 3
   },
   "file_extension": ".py",
   "mimetype": "text/x-python",
   "name": "python",
   "nbconvert_exporter": "python",
   "pygments_lexer": "ipython3",
   "version": "3.11.11"
  },
  "papermill": {
   "default_parameters": {},
   "duration": 5441.531812,
   "end_time": "2025-05-28T15:18:04.147652",
   "environment_variables": {},
   "exception": null,
   "input_path": "__notebook__.ipynb",
   "output_path": "__notebook__.ipynb",
   "parameters": {},
   "start_time": "2025-05-28T13:47:22.615840",
   "version": "2.6.0"
  }
 },
 "nbformat": 4,
 "nbformat_minor": 5
}
